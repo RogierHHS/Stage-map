{
 "cells": [
  {
   "cell_type": "markdown",
   "metadata": {},
   "source": [
    "<div style=\"background-color:\t#006096; text-align:center; vertical-align: middle; padding:40px 0; margin-top:30px\">\n",
    "<h1 style=\"color:white\">Scraping Project</h1>\n",
    "<b style=\"color:white\">Rogier Gernaat</b>\n",
    "    </div>\n",
    "\n",
    "<a name='start'></a>"
   ]
  },
  {
   "cell_type": "code",
   "execution_count": 3,
   "metadata": {},
   "outputs": [
    {
     "name": "stderr",
     "output_type": "stream",
     "text": [
      "C:\\Users\\rogie\\AppData\\Local\\Temp\\ipykernel_15108\\714691347.py:14: UserWarning: pandas only supports SQLAlchemy connectable (engine/connection) or database string URI or sqlite3 DBAPI2 connection. Other DBAPI2 objects are not tested. Please consider using SQLAlchemy.\n",
      "  df = pd.read_sql(query, conn)\n"
     ]
    },
    {
     "data": {
      "text/html": [
       "<div>\n",
       "<style scoped>\n",
       "    .dataframe tbody tr th:only-of-type {\n",
       "        vertical-align: middle;\n",
       "    }\n",
       "\n",
       "    .dataframe tbody tr th {\n",
       "        vertical-align: top;\n",
       "    }\n",
       "\n",
       "    .dataframe thead th {\n",
       "        text-align: right;\n",
       "    }\n",
       "</style>\n",
       "<table border=\"1\" class=\"dataframe\">\n",
       "  <thead>\n",
       "    <tr style=\"text-align: right;\">\n",
       "      <th></th>\n",
       "      <th>id</th>\n",
       "      <th>Titel</th>\n",
       "      <th>Link</th>\n",
       "      <th>Datum_numeriek</th>\n",
       "      <th>Datum_text</th>\n",
       "      <th>Beschrijving</th>\n",
       "      <th>Starttijd</th>\n",
       "      <th>Eindtijd</th>\n",
       "      <th>Locatie</th>\n",
       "      <th>URL_plaatje</th>\n",
       "      <th>Extra_beschrijving</th>\n",
       "    </tr>\n",
       "  </thead>\n",
       "  <tbody>\n",
       "    <tr>\n",
       "      <th>0</th>\n",
       "      <td>1</td>\n",
       "      <td>Informatiebijeenkomst huisvesting</td>\n",
       "      <td>https://www.inzet-indewijk.nl/informatiebijeen...</td>\n",
       "      <td>2024-09-18</td>\n",
       "      <td>woensdag, 18 september 2024</td>\n",
       "      <td>Stel al je vragen over huisvesting</td>\n",
       "      <td>0 days 10:00:00</td>\n",
       "      <td>0 days 11:15:00</td>\n",
       "      <td>inZet Buytenwegh &amp; De Leyens, Teldersrode 25</td>\n",
       "      <td>https://cuatro.sim-cdn.nl/inzetindewijk/upload...</td>\n",
       "      <td>Heb jij vragen over huisvesting? Kom dan naar ...</td>\n",
       "    </tr>\n",
       "    <tr>\n",
       "      <th>1</th>\n",
       "      <td>2</td>\n",
       "      <td>Kennissessies voor en door ouderen</td>\n",
       "      <td>https://www.inzet-indewijk.nl/kennissessies-vo...</td>\n",
       "      <td>2024-09-18</td>\n",
       "      <td>woensdag, 18 september 2024</td>\n",
       "      <td>“Mooie luisterliederen in vier talen”</td>\n",
       "      <td>0 days 12:30:00</td>\n",
       "      <td>0 days 14:30:00</td>\n",
       "      <td>InZet Buytenwegh &amp; De Leyens, César Franckrode 64</td>\n",
       "      <td>https://cuatro.sim-cdn.nl/inzetindewijk/upload...</td>\n",
       "      <td>Op woensdag 18 september zal vrijwilliger Kees...</td>\n",
       "    </tr>\n",
       "    <tr>\n",
       "      <th>2</th>\n",
       "      <td>3</td>\n",
       "      <td>Ontmoetingsgroep LVB</td>\n",
       "      <td>https://www.inzet-indewijk.nl/ontmoetingsgroep...</td>\n",
       "      <td>2024-10-04</td>\n",
       "      <td>vrijdag, 4 oktober 2024</td>\n",
       "      <td>Een veilige ontmoetingsplek</td>\n",
       "      <td>0 days 18:30:00</td>\n",
       "      <td>0 days 20:15:00</td>\n",
       "      <td>inZet Buytenwegh &amp; De Leyens, Teldersrode 25</td>\n",
       "      <td>https://cuatro.sim-cdn.nl/inzetindewijk/upload...</td>\n",
       "      <td>10 jaar geleden zijn we op verzoek van een gro...</td>\n",
       "    </tr>\n",
       "    <tr>\n",
       "      <th>3</th>\n",
       "      <td>4</td>\n",
       "      <td>Kookworkshop voor kinderen</td>\n",
       "      <td>https://www.inzet-indewijk.nl/kookworkshop-voo...</td>\n",
       "      <td>2024-09-25</td>\n",
       "      <td>woensdag, 25 september 2024</td>\n",
       "      <td>Koken met de diëtiste</td>\n",
       "      <td>0 days 12:30:00</td>\n",
       "      <td>0 days 14:30:00</td>\n",
       "      <td>InZet Buytenwegh &amp; De Leyens, César Franckrode 64</td>\n",
       "      <td>https://cuatro.sim-cdn.nl/inzetindewijk/upload...</td>\n",
       "      <td>Het wordt buiten steeds frisser en natter, dus...</td>\n",
       "    </tr>\n",
       "    <tr>\n",
       "      <th>4</th>\n",
       "      <td>5</td>\n",
       "      <td>Ontmoetingsgroep Ouders voor Ouders</td>\n",
       "      <td>https://www.inzet-indewijk.nl/ontmoetingsgroep...</td>\n",
       "      <td>2024-09-19</td>\n",
       "      <td>donderdag, 19 september 2024</td>\n",
       "      <td>Stel hier al je opvoedvragen</td>\n",
       "      <td>0 days 10:00:00</td>\n",
       "      <td>0 days 11:00:00</td>\n",
       "      <td>Kinderboerderij De Weidemolen, Burgemeester Mi...</td>\n",
       "      <td>https://cuatro.sim-cdn.nl/inzetindewijk/upload...</td>\n",
       "      <td>Dit is een nieuwe groep in Oosterheem. Wij vin...</td>\n",
       "    </tr>\n",
       "  </tbody>\n",
       "</table>\n",
       "</div>"
      ],
      "text/plain": [
       "   id                                Titel  \\\n",
       "0   1   Informatiebijeenkomst huisvesting    \n",
       "1   2   Kennissessies voor en door ouderen   \n",
       "2   3                Ontmoetingsgroep LVB    \n",
       "3   4           Kookworkshop voor kinderen   \n",
       "4   5  Ontmoetingsgroep Ouders voor Ouders   \n",
       "\n",
       "                                                Link Datum_numeriek  \\\n",
       "0  https://www.inzet-indewijk.nl/informatiebijeen...     2024-09-18   \n",
       "1  https://www.inzet-indewijk.nl/kennissessies-vo...     2024-09-18   \n",
       "2  https://www.inzet-indewijk.nl/ontmoetingsgroep...     2024-10-04   \n",
       "3  https://www.inzet-indewijk.nl/kookworkshop-voo...     2024-09-25   \n",
       "4  https://www.inzet-indewijk.nl/ontmoetingsgroep...     2024-09-19   \n",
       "\n",
       "                     Datum_text                           Beschrijving  \\\n",
       "0   woensdag, 18 september 2024     Stel al je vragen over huisvesting   \n",
       "1   woensdag, 18 september 2024  “Mooie luisterliederen in vier talen”   \n",
       "2       vrijdag, 4 oktober 2024            Een veilige ontmoetingsplek   \n",
       "3   woensdag, 25 september 2024                  Koken met de diëtiste   \n",
       "4  donderdag, 19 september 2024           Stel hier al je opvoedvragen   \n",
       "\n",
       "        Starttijd        Eindtijd  \\\n",
       "0 0 days 10:00:00 0 days 11:15:00   \n",
       "1 0 days 12:30:00 0 days 14:30:00   \n",
       "2 0 days 18:30:00 0 days 20:15:00   \n",
       "3 0 days 12:30:00 0 days 14:30:00   \n",
       "4 0 days 10:00:00 0 days 11:00:00   \n",
       "\n",
       "                                             Locatie  \\\n",
       "0       inZet Buytenwegh & De Leyens, Teldersrode 25   \n",
       "1  InZet Buytenwegh & De Leyens, César Franckrode 64   \n",
       "2       inZet Buytenwegh & De Leyens, Teldersrode 25   \n",
       "3  InZet Buytenwegh & De Leyens, César Franckrode 64   \n",
       "4  Kinderboerderij De Weidemolen, Burgemeester Mi...   \n",
       "\n",
       "                                         URL_plaatje  \\\n",
       "0  https://cuatro.sim-cdn.nl/inzetindewijk/upload...   \n",
       "1  https://cuatro.sim-cdn.nl/inzetindewijk/upload...   \n",
       "2  https://cuatro.sim-cdn.nl/inzetindewijk/upload...   \n",
       "3  https://cuatro.sim-cdn.nl/inzetindewijk/upload...   \n",
       "4  https://cuatro.sim-cdn.nl/inzetindewijk/upload...   \n",
       "\n",
       "                                  Extra_beschrijving  \n",
       "0  Heb jij vragen over huisvesting? Kom dan naar ...  \n",
       "1  Op woensdag 18 september zal vrijwilliger Kees...  \n",
       "2  10 jaar geleden zijn we op verzoek van een gro...  \n",
       "3  Het wordt buiten steeds frisser en natter, dus...  \n",
       "4  Dit is een nieuwe groep in Oosterheem. Wij vin...  "
      ]
     },
     "execution_count": 3,
     "metadata": {},
     "output_type": "execute_result"
    }
   ],
   "source": [
    "import pandas as pd\n",
    "import mysql.connector\n",
    "\n",
    "# Maak verbinding met MySQL database\n",
    "conn = mysql.connector.connect(\n",
    "    host=\"localhost\",\n",
    "    user=\"root\",\n",
    "    password=\"Rogier2004!\",\n",
    "    database=\"scraping_project\"\n",
    ")\n",
    "\n",
    "# Haal data op met SQL query\n",
    "query = \"SELECT * FROM activiteiten\"\n",
    "df = pd.read_sql(query, conn)\n",
    "\n",
    "# Sluit de verbinding\n",
    "conn.close()\n",
    "\n",
    "# Bekijk een voorbeeld van de data\n",
    "df.head()\n"
   ]
  },
  {
   "cell_type": "code",
   "execution_count": 7,
   "metadata": {},
   "outputs": [
    {
     "data": {
      "image/png": "[encoded data removed]",
      "text/plain": [
       "<Figure size 640x480 with 1 Axes>"
      ]
     },
     "metadata": {},
     "output_type": "display_data"
    }
   ],
   "source": [
    "import matplotlib.pyplot as plt\n",
    "\n",
    "# Voorbeeld: aantal activiteiten per locatie\n",
    "df['Locatie'].value_counts().plot(kind='bar')\n",
    "plt.title('Aantal Activiteiten per Locatie')\n",
    "plt.show()\n"
   ]
  },
  {
   "cell_type": "code",
   "execution_count": 15,
   "metadata": {},
   "outputs": [
    {
     "name": "stdout",
     "output_type": "stream",
     "text": [
      "Collecting plotly\n",
      "  Downloading plotly-5.24.1-py3-none-any.whl.metadata (7.3 kB)\n",
      "Collecting tenacity>=6.2.0 (from plotly)\n",
      "  Downloading tenacity-9.0.0-py3-none-any.whl.metadata (1.2 kB)\n",
      "Requirement already satisfied: packaging in c:\\users\\rogie\\onedrive\\bureaublad\\stage map\\code\\myvenv\\lib\\site-packages (from plotly) (24.1)\n",
      "Downloading plotly-5.24.1-py3-none-any.whl (19.1 MB)\n",
      "   ---------------------------------------- 0.0/19.1 MB ? eta -:--:--\n",
      "   ------- -------------------------------- 3.7/19.1 MB 19.8 MB/s eta 0:00:01\n",
      "   ----------------- ---------------------- 8.4/19.1 MB 21.7 MB/s eta 0:00:01\n",
      "   --------------------------- ------------ 13.1/19.1 MB 21.7 MB/s eta 0:00:01\n",
      "   ------------------------------------ --- 17.3/19.1 MB 21.4 MB/s eta 0:00:01\n",
      "   ---------------------------------------- 19.1/19.1 MB 20.4 MB/s eta 0:00:00\n",
      "Downloading tenacity-9.0.0-py3-none-any.whl (28 kB)\n",
      "Installing collected packages: tenacity, plotly\n",
      "Successfully installed plotly-5.24.1 tenacity-9.0.0\n",
      "Note: you may need to restart the kernel to use updated packages.\n"
     ]
    }
   ],
   "source": [
    "pip install plotly\n"
   ]
  },
  {
   "cell_type": "code",
   "execution_count": 18,
   "metadata": {},
   "outputs": [
    {
     "data": {
      "application/vnd.plotly.v1+json": {
       "config": {
        "plotlyServerURL": "https://plot.ly"
       },
       "data": [
        {
         "cells": {
          "align": "left",
          "fill": {
           "color": "lavender"
          },
          "values": [
           [
            1,
            2,
            3,
            4,
            5,
            6,
            7,
            8,
            9,
            10,
            11,
            12
           ],
           [
            "Informatiebijeenkomst huisvesting ",
            "Kennissessies voor en door ouderen",
            "Ontmoetingsgroep LVB ",
            "Kookworkshop voor kinderen",
            "Ontmoetingsgroep Ouders voor Ouders",
            "Mantelzorgcafé: Mantelzorg uit de bocht?",
            "Ontmoetingsgroep LVB café: ‘Sterk in je schoenen’",
            "Workshop Happy Stones maken",
            "Indigo Workshop ‘Meer Zelfvertrouwen'",
            "Groepstraining prikkelverwerking autisme",
            "Training assertiviteit voor volwassenen",
            "Cursus Omgaan met Pubers"
           ],
           [
            "https://www.inzet-indewijk.nl/informatiebijeenkomst-huisvesting",
            "https://www.inzet-indewijk.nl/kennissessies-voor-en-door-ouderen-22",
            "https://www.inzet-indewijk.nl/ontmoetingsgroep-lvb",
            "https://www.inzet-indewijk.nl/kookworkshop-voor-kinderen",
            "https://www.inzet-indewijk.nl/ontmoetingsgroep-ouders-voor-ouders",
            "https://www.inzet-indewijk.nl/mantelzorgcafe-mantelzorg-uit-de-bocht",
            "https://www.inzet-indewijk.nl/ontmoetingsgroep-lvb-cafe-sterk-in-je-schoenen-0",
            "https://www.inzet-indewijk.nl/workshop-happy-stones-maken",
            "https://www.inzet-indewijk.nl/indigo-workshop-meer-zelfvertrouwen",
            "https://www.inzet-indewijk.nl/groepstraining-prikkelverwerking-autisme",
            "https://www.inzet-indewijk.nl/training-assertiviteit-voor-volwassenen-1",
            "https://www.inzet-indewijk.nl/cursus-omgaan-met-pubers"
           ],
           [
            "2024-09-18",
            "2024-09-18",
            "2024-10-04",
            "2024-09-25",
            "2024-09-19",
            "2024-09-24",
            "2024-09-30",
            "2024-10-02",
            "2024-09-18",
            "2024-11-04",
            "2024-10-09",
            "2024-10-10"
           ],
           [
            "woensdag, 18 september 2024",
            "woensdag, 18 september 2024",
            "vrijdag, 4 oktober 2024",
            "woensdag, 25 september 2024",
            "donderdag, 19 september 2024",
            "dinsdag, 24 september 2024",
            "maandag, 30 september 2024",
            "woensdag, 2 oktober 2024",
            "woensdag, 18 september 2024",
            "maandag, 4 november 2024",
            "woensdag, 9 oktober 2024",
            "donderdag, 10 oktober 2024"
           ],
           [
            "Stel al je vragen over huisvesting",
            "“Mooie luisterliederen in vier talen”",
            "Een veilige ontmoetingsplek",
            "Koken met de diëtiste",
            "Stel hier al je opvoedvragen",
            "Wat is jouw grens?",
            "Samen herkennen van LVB problemen",
            "Maak je eigen persoonlijke steen!",
            "Bouw je zelfvertrouwen op!",
            "Meer balans in jouw leven",
            "Leer voor jezelf opkomen",
            "De ontwikkeling van een puber"
           ],
           [
            "P0DT10H0M0S",
            "P0DT12H30M0S",
            "P0DT18H30M0S",
            "P0DT12H30M0S",
            "P0DT10H0M0S",
            "P0DT13H30M0S",
            "P0DT18H30M0S",
            "P0DT13H30M0S",
            "P0DT10H0M0S",
            "P0DT15H0M0S",
            "P0DT19H30M0S",
            "P0DT19H30M0S"
           ],
           [
            "P0DT11H15M0S",
            "P0DT14H30M0S",
            "P0DT20H15M0S",
            "P0DT14H30M0S",
            "P0DT11H0M0S",
            "P0DT15H30M0S",
            "P0DT20H0M0S",
            "P0DT15H0M0S",
            "P0DT12H15M0S",
            "P0DT16H30M0S",
            "P0DT21H0M0S",
            "P0DT21H30M0S"
           ],
           [
            "inZet Buytenwegh & De Leyens, Teldersrode 25",
            "InZet Buytenwegh & De Leyens, César Franckrode 64",
            "inZet Buytenwegh & De Leyens, Teldersrode 25",
            "InZet Buytenwegh & De Leyens, César Franckrode 64",
            "Kinderboerderij De Weidemolen, Burgemeester Middelberglaan 2",
            "inZet Oosterheem, Zanzibarplein 5",
            "inZet Buytenwegh & De Leyens, Teldersrode 25",
            "inZet Noordhove & Seghwaert, Petuniatuin 7a",
            "inZet Oosterheem, Zanzibarplein 5",
            "inZet Buytenwegh & De Leyens, Teldersrode 25",
            "inZet Buytenwegh & De Leyens, Teldersrode 25",
            "inZet Buytenwegh & De Leyens, Teldersrode 25"
           ],
           [
            "https://cuatro.sim-cdn.nl/inzetindewijk/uploads/styles/teaser_16_9__6/media/huis_1.png?h=fbf7a813&cb=r_MDyram",
            "https://cuatro.sim-cdn.nl/inzetindewijk/uploads/styles/teaser_16_9__6/media/tijdens_de_kennissessie_voor_ouderen_zingt_kees_mooie_luisterliederen_in_vier_talen_-_fotograaf_jeroen_stahlecker_0.jpg?h=e0d2a5d2&cb=E3GN4rSQ",
            "https://cuatro.sim-cdn.nl/inzetindewijk/uploads/styles/teaser_16_9__6/media/groep_mensen_3_0.jpg?h=790be497&cb=8yCPt694",
            "https://cuatro.sim-cdn.nl/inzetindewijk/uploads/styles/teaser_16_9__6/media/pompoensoep_-_stockfoto_0.png?h=49177a1a&cb=3GKqR6Vw",
            "https://cuatro.sim-cdn.nl/inzetindewijk/uploads/styles/teaser_16_9__6/media/ouders_0.jpg?h=df44d994&cb=cBWLAnV_",
            "https://cuatro.sim-cdn.nl/inzetindewijk/uploads/styles/teaser_16_9__6/media/mantelzorg_1_0.jpg?h=1c9b88c9&cb=Q4ADu0Ky",
            "https://cuatro.sim-cdn.nl/inzetindewijk/uploads/styles/teaser_16_9__6/media/pexels-samerdaboul-2080544_0.jpg?h=7af350d3&cb=oeow8MxG",
            "https://cuatro.sim-cdn.nl/inzetindewijk/uploads/styles/teaser_16_9__6/media/screenshot_20240828_134254_nextdoor_0.jpg?h=08cd78b8&cb=il8PymWa",
            "https://cuatro.sim-cdn.nl/inzetindewijk/uploads/styles/teaser_16_9__6/media/24-foto-bron-indigo_meer_zelfvertrouwen_180924_0.jpg?h=89c44b6b&cb=svUtF0Mx",
            "https://cuatro.sim-cdn.nl/inzetindewijk/uploads/styles/teaser_16_9__6/media/prikkelvrij_0.jpg?h=ae1281eb&cb=Qo5jRJQ4",
            "https://cuatro.sim-cdn.nl/inzetindewijk/uploads/styles/teaser_16_9__6/media/zelfverzekerd-man_0.jpg?h=de5fdb45&cb=4X35Wcvp",
            "https://cuatro.sim-cdn.nl/inzetindewijk/uploads/styles/teaser_16_9__6/media/pubers_0.jpg?h=2cbf53fd&cb=GXmReevP"
           ],
           [
            "Heb jij vragen over huisvesting? Kom dan naar de gratis bijeenkomst op woensdag 18 september.",
            "Op woensdag 18 september zal vrijwilliger Kees van Stichting Piëzo een kennissessie verzorgen met mooie luisterliederen in vier talen. Kees zingt liederen van bekende artiesten uit verschillende landen. Daarbij vertelt hij ook wat over deze artiesten en over de strekking van de liederen. Per land hoor je vaak een verschil in de klankkleur van het lied en ook de periode in de geschiedenis waarin het lied geschreven is, is terug te horen. Kees begeleidt zichzelf met zijn gitaar. Kom luisteren en geniet van de klanken en woorden op woensdagmiddag 18 september van 12:30 tot 14:30 uur bij inZet Buytenwegh aan de César Franckrode 64. Deelname is 4 euro, inclusief koffie en thee. Betalen met de Zoetermeerpas is ook mogelijk. Aanmelden voor deze Kennissessie kan via Geke Spijker via of door te bellen naar de locatie via 079-8887474.",
            "10 jaar geleden zijn we op verzoek van een groep volwassenen gestart met een ontmoetingsgroep voor mensen met LVB. De groep heeft aangegeven behoefte te hebben aan een veilige plek waar ze elkaar kunnen ontmoeten, kunnen kletsen, spelletjes doen, koffie drinken of een filmpje kunnen kijken. We hebben een voorjaar- en najaarsdiner, waarin iedereen iets te eten maakt voor twee personen en dan eten we gezellig met elkaar. Een aantal hebben aangegeven ook iets te willen leren. Daarom zal er af en toe een thema-avond zijn (Bijvoorbeeld over kinderen, geld, toekomst of bijvoorbeeld samenwonen). Twee keer per jaar wil de groep er wel op uit. Dan kunnen we een ijsje eten, bowlen of een wandeling maken. We sluiten het jaar af met een kerstdiner. We staan open voor ideeën. Voor volwassenen die op praktijk onderwijs of speciaal onderwijs hebben gezeten. Je werkt op de DSW of op een DAC. Je bent tussen de 18 en 50 jaar. Je kunt zelfstandig naar de locatie komen. Deze ontmoetingsavond kan ervoor gaan zorgen dat jullie elkaar weten te vinden, elkaar opzoeken en contact houden met elkaar. Je kan via de groepsapp vragen wie er op een avond of zaterdag/ zondag zin heeft om iets leuks met elkaar te gaan doen. Inlooplocatie Buytenwegh & De Leyens, Teldersrode 25 (Winkelcentrum Buytenwegh). De randstadrail stopt voor de deur. De ontmoetingsgroep is 1x per maand op vrijdagavond van 18.30 tot ongeveer 20.15 uur. * Data 2024: 4 oktober, 1 november, 29 november, 20 december 18.15 Kerstdiner. Data 2025: 10 januari, 7 februari, 7 maart, 9 mei, 6 juni en 4 juli. * Heb je belangstelling, heb je nog vragen of kan je niet? Laat het aan Wendy van der Mee weten. T 0610727080 of E . Deelname is gratis",
            "Het wordt buiten steeds frisser en natter, dus de herfst komt eraan. Aan welke soep denk je bij de herfst? Pompoensoep natuurlijk! De diëtiste van Goudenhart en de vrijwilligers van Piëzo leren je woensdagmiddag 25 september precies hoe je die soep kunt maken. We eten de soep daarna op met een heerlijk broodje erbij. Kom je ook? Woensdag 25 september van 12:30 tot 14:30 uur bij inZet Buytenwegh aan de César Franckrode 64. Deelname is gratis. Deze kookworkshop is voor kinderen van 5 tot 12 jaar. Vooraf aanmelden hoeft niet, maar als je nog wat wil weten dan kun je contact opnemen met of bellen naar de locatie 079-8887474.",
            "Dit is een nieuwe groep in Oosterheem. Wij vinden jullie inbreng belangrijk en daarom gaan we deze groep vormgeven binnen de groep zelf. Dit kan aan de hand van thema's bijvoorbeeld: slaapritme, grenzen stellen, voeding, opvoedstress, positief opvoeden en ga zo maar door. De mogelijkheid is er om professionals of ervaringsdeskundigen uit te nodigen om iets te vertellen over het gekozen thema. Stel hier al je vragen met betrekking tot opvoeding. Kinderboerderij De Weidemolen, Burgemeester Middelberglaan 2. Elke donderdag vanaf 19 september van 10.00 uur tot 11.00 uur met uitzondering van feestdagen. Je mag de kinderen meenemen. Wil je je aanmelden of heb je nog vragen? Stuur een email naar Merel Kuzee of Ragani Mohey . Deelname is gratis.",
            "Langdurig voor iemand zorgen kan uiteindelijk ook belastend zijn. Je naaste kan veel aandacht nodig hebben en je kunt je veel zorgen maken. Er kan een moment komen dat het je allemaal even te veel wordt. Dat gevoel is heel normaal. Er wordt veel van je gevraagd en je kunt misschien ook geen steun meer verwachten van je naaste(n). Uit onderzoek blijkt dat 3 op de 10 mantelzorgers dan wel eens onbedoeld lelijke woorden gebruikt of schreeuwt. Tijdens het café praten we over de grens tussen een keer uit je slof schieten en een situatie waarin de zorg boven je hoofd groeit. Dinsdagmiddag 24 september van 13:30 tot 15:30 uur bij de inZet inlooplocatie Oosterheem, Zanzibarplein 5 (naast sporthal Oosterpoort). Heb je interesse in dit thema? Aanmelden is gewenst. Stuur een e-mail met je naam en telefoonnummer naar . Het mantelzorgcafé is gratis en bedoeld voor mensen die intensief zorgen voor iemand in hun gezin, familie of vriendenkring die (chronisch) ziek, beperkt of hulpbehoevend is. Zorg jij ook intensief voor een naaste en ben je dit jaar nog niet geregistreerd? Ga naar de website zodat je ook gebruik kan maken van mantelzorgondersteuning en de mantelzorgwaardering kan aanvragen.",
            "De ontmoetingsgroep LVB café: 'Sterk in je schoenen' is voor volwassenen met LVB (licht verstandelijke beperking) en komt maandelijks bij elkaar.",
            "In de Week tegen Eenzaamheid organiseren we de activiteit \"Happy Stones\" maken. Happy Stones zijn vrolijk beschilderde stenen die mensen kunnen maken en vervolgens ergens achterlaten om anderen op te vrolijken",
            "Op woensdag 18 september kan je de Indigo Preventie workshop ‘Meer Zelfvertrouwen’ volgen. Geef je snel op, er zijn nog een aantal plaatsen beschikbaar.",
            "Volwassenen vanaf 18 jaar met autisme en een normale of hoge intelligentie kunnen hier aan meedoen. Deelname is gratis. Aan het einde van deze training weet je: Zes reguliere bijeenkomsten en één terugkombijeenkomst na zes weken. De bijeenkomsten vinden om de week plaats, met uitzondering van de kerstvakantie en de terugkombijeenkomst. De groep bestaat uit maximaal 12 personen. De bijeenkomsten bestaan zowel uit theorie als praktische oefeningen. Iedere deelnemer ontvangt een werkboek, dat je mag houden. Inlooplocatie Buytenwegh & De Leyens, Teldersrode 25 (winkelcentrum Buytenwegh, dichtbij de Randstadrail). Start is op maandag 4 november 2024. Daaropvolgende data: 18 november, 2 december, 16 december, 6 januari 2025, 20 januari en de terugkombijeenkomst op 3 maart 2024. De bijeenkomsten vinden plaats van 15:00 – 16:30 uur. Het is de bedoeling dat je de hele training volgt. Je mag je natuurlijk wel afmelden als je ziek of overprikkeld bent. Begeleiders: Iris Lindner en Patty van Wingerden. Heb je belangstelling of heb je nog vragen? Stuur dan een email naar Iris Lindner",
            "Durf je niet te zeggen wat je werkelijk vindt? Of zeg je juist heel snel wat je vindt, maar niet altijd op een handige manier. Vind je het lastig om kritiek te geven of voel je je snel schuldig? Als dit herkenbaar voor jou is, dan is een training assertiviteit misschien iets voor jou.",
            "Voor ouders van kinderen van 11 tot en met 16 jaar. Tijdens de cursus komen onderwerpen naar voren als: Naast het geven van achtergrondinformatie en zelf aan de slag gaan met opdrachten, is er ruimte voor het stellen van vragen en het uitwisselen van ervaringen tussen ouders. De cursus Omgaan met Pubers bestaat uit 6 avonden. Start: 10 oktober 2024. Vervolgdata: 17 en 24 oktober, 7, 14 en 21 november 2024. Tijd: 19.30 tot 21.30 uur. Locatie: inlooplocatie Buytenwegh & De Leyens, Teldersrode 25 (winkelcentrum Buytenwegh) Heb je vragen of wil je je aanmelden, stuur dan een email naar het Opvoedadviespunt:"
           ]
          ]
         },
         "header": {
          "align": "left",
          "fill": {
           "color": "paleturquoise"
          },
          "values": [
           "id",
           "Titel",
           "Link",
           "Datum_numeriek",
           "Datum_text",
           "Beschrijving",
           "Starttijd",
           "Eindtijd",
           "Locatie",
           "URL_plaatje",
           "Extra_beschrijving"
          ]
         },
         "type": "table"
        }
       ],
       "layout": {
        "template": {
         "data": {
          "bar": [
           {
            "error_x": {
             "color": "#2a3f5f"
            },
            "error_y": {
             "color": "#2a3f5f"
            },
            "marker": {
             "line": {
              "color": "#E5ECF6",
              "width": 0.5
             },
             "pattern": {
              "fillmode": "overlay",
              "size": 10,
              "solidity": 0.2
             }
            },
            "type": "bar"
           }
          ],
          "barpolar": [
           {
            "marker": {
             "line": {
              "color": "#E5ECF6",
              "width": 0.5
             },
             "pattern": {
              "fillmode": "overlay",
              "size": 10,
              "solidity": 0.2
             }
            },
            "type": "barpolar"
           }
          ],
          "carpet": [
           {
            "aaxis": {
             "endlinecolor": "#2a3f5f",
             "gridcolor": "white",
             "linecolor": "white",
             "minorgridcolor": "white",
             "startlinecolor": "#2a3f5f"
            },
            "baxis": {
             "endlinecolor": "#2a3f5f",
             "gridcolor": "white",
             "linecolor": "white",
             "minorgridcolor": "white",
             "startlinecolor": "#2a3f5f"
            },
            "type": "carpet"
           }
          ],
          "choropleth": [
           {
            "colorbar": {
             "outlinewidth": 0,
             "ticks": ""
            },
            "type": "choropleth"
           }
          ],
          "contour": [
           {
            "colorbar": {
             "outlinewidth": 0,
             "ticks": ""
            },
            "colorscale": [
             [
              0,
              "#0d0887"
             ],
             [
              0.1111111111111111,
              "#46039f"
             ],
             [
              0.2222222222222222,
              "#7201a8"
             ],
             [
              0.3333333333333333,
              "#9c179e"
             ],
             [
              0.4444444444444444,
              "#bd3786"
             ],
             [
              0.5555555555555556,
              "#d8576b"
             ],
             [
              0.6666666666666666,
              "#ed7953"
             ],
             [
              0.7777777777777778,
              "#fb9f3a"
             ],
             [
              0.8888888888888888,
              "#fdca26"
             ],
             [
              1,
              "#f0f921"
             ]
            ],
            "type": "contour"
           }
          ],
          "contourcarpet": [
           {
            "colorbar": {
             "outlinewidth": 0,
             "ticks": ""
            },
            "type": "contourcarpet"
           }
          ],
          "heatmap": [
           {
            "colorbar": {
             "outlinewidth": 0,
             "ticks": ""
            },
            "colorscale": [
             [
              0,
              "#0d0887"
             ],
             [
              0.1111111111111111,
              "#46039f"
             ],
             [
              0.2222222222222222,
              "#7201a8"
             ],
             [
              0.3333333333333333,
              "#9c179e"
             ],
             [
              0.4444444444444444,
              "#bd3786"
             ],
             [
              0.5555555555555556,
              "#d8576b"
             ],
             [
              0.6666666666666666,
              "#ed7953"
             ],
             [
              0.7777777777777778,
              "#fb9f3a"
             ],
             [
              0.8888888888888888,
              "#fdca26"
             ],
             [
              1,
              "#f0f921"
             ]
            ],
            "type": "heatmap"
           }
          ],
          "heatmapgl": [
           {
            "colorbar": {
             "outlinewidth": 0,
             "ticks": ""
            },
            "colorscale": [
             [
              0,
              "#0d0887"
             ],
             [
              0.1111111111111111,
              "#46039f"
             ],
             [
              0.2222222222222222,
              "#7201a8"
             ],
             [
              0.3333333333333333,
              "#9c179e"
             ],
             [
              0.4444444444444444,
              "#bd3786"
             ],
             [
              0.5555555555555556,
              "#d8576b"
             ],
             [
              0.6666666666666666,
              "#ed7953"
             ],
             [
              0.7777777777777778,
              "#fb9f3a"
             ],
             [
              0.8888888888888888,
              "#fdca26"
             ],
             [
              1,
              "#f0f921"
             ]
            ],
            "type": "heatmapgl"
           }
          ],
          "histogram": [
           {
            "marker": {
             "pattern": {
              "fillmode": "overlay",
              "size": 10,
              "solidity": 0.2
             }
            },
            "type": "histogram"
           }
          ],
          "histogram2d": [
           {
            "colorbar": {
             "outlinewidth": 0,
             "ticks": ""
            },
            "colorscale": [
             [
              0,
              "#0d0887"
             ],
             [
              0.1111111111111111,
              "#46039f"
             ],
             [
              0.2222222222222222,
              "#7201a8"
             ],
             [
              0.3333333333333333,
              "#9c179e"
             ],
             [
              0.4444444444444444,
              "#bd3786"
             ],
             [
              0.5555555555555556,
              "#d8576b"
             ],
             [
              0.6666666666666666,
              "#ed7953"
             ],
             [
              0.7777777777777778,
              "#fb9f3a"
             ],
             [
              0.8888888888888888,
              "#fdca26"
             ],
             [
              1,
              "#f0f921"
             ]
            ],
            "type": "histogram2d"
           }
          ],
          "histogram2dcontour": [
           {
            "colorbar": {
             "outlinewidth": 0,
             "ticks": ""
            },
            "colorscale": [
             [
              0,
              "#0d0887"
             ],
             [
              0.1111111111111111,
              "#46039f"
             ],
             [
              0.2222222222222222,
              "#7201a8"
             ],
             [
              0.3333333333333333,
              "#9c179e"
             ],
             [
              0.4444444444444444,
              "#bd3786"
             ],
             [
              0.5555555555555556,
              "#d8576b"
             ],
             [
              0.6666666666666666,
              "#ed7953"
             ],
             [
              0.7777777777777778,
              "#fb9f3a"
             ],
             [
              0.8888888888888888,
              "#fdca26"
             ],
             [
              1,
              "#f0f921"
             ]
            ],
            "type": "histogram2dcontour"
           }
          ],
          "mesh3d": [
           {
            "colorbar": {
             "outlinewidth": 0,
             "ticks": ""
            },
            "type": "mesh3d"
           }
          ],
          "parcoords": [
           {
            "line": {
             "colorbar": {
              "outlinewidth": 0,
              "ticks": ""
             }
            },
            "type": "parcoords"
           }
          ],
          "pie": [
           {
            "automargin": true,
            "type": "pie"
           }
          ],
          "scatter": [
           {
            "fillpattern": {
             "fillmode": "overlay",
             "size": 10,
             "solidity": 0.2
            },
            "type": "scatter"
           }
          ],
          "scatter3d": [
           {
            "line": {
             "colorbar": {
              "outlinewidth": 0,
              "ticks": ""
             }
            },
            "marker": {
             "colorbar": {
              "outlinewidth": 0,
              "ticks": ""
             }
            },
            "type": "scatter3d"
           }
          ],
          "scattercarpet": [
           {
            "marker": {
             "colorbar": {
              "outlinewidth": 0,
              "ticks": ""
             }
            },
            "type": "scattercarpet"
           }
          ],
          "scattergeo": [
           {
            "marker": {
             "colorbar": {
              "outlinewidth": 0,
              "ticks": ""
             }
            },
            "type": "scattergeo"
           }
          ],
          "scattergl": [
           {
            "marker": {
             "colorbar": {
              "outlinewidth": 0,
              "ticks": ""
             }
            },
            "type": "scattergl"
           }
          ],
          "scattermapbox": [
           {
            "marker": {
             "colorbar": {
              "outlinewidth": 0,
              "ticks": ""
             }
            },
            "type": "scattermapbox"
           }
          ],
          "scatterpolar": [
           {
            "marker": {
             "colorbar": {
              "outlinewidth": 0,
              "ticks": ""
             }
            },
            "type": "scatterpolar"
           }
          ],
          "scatterpolargl": [
           {
            "marker": {
             "colorbar": {
              "outlinewidth": 0,
              "ticks": ""
             }
            },
            "type": "scatterpolargl"
           }
          ],
          "scatterternary": [
           {
            "marker": {
             "colorbar": {
              "outlinewidth": 0,
              "ticks": ""
             }
            },
            "type": "scatterternary"
           }
          ],
          "surface": [
           {
            "colorbar": {
             "outlinewidth": 0,
             "ticks": ""
            },
            "colorscale": [
             [
              0,
              "#0d0887"
             ],
             [
              0.1111111111111111,
              "#46039f"
             ],
             [
              0.2222222222222222,
              "#7201a8"
             ],
             [
              0.3333333333333333,
              "#9c179e"
             ],
             [
              0.4444444444444444,
              "#bd3786"
             ],
             [
              0.5555555555555556,
              "#d8576b"
             ],
             [
              0.6666666666666666,
              "#ed7953"
             ],
             [
              0.7777777777777778,
              "#fb9f3a"
             ],
             [
              0.8888888888888888,
              "#fdca26"
             ],
             [
              1,
              "#f0f921"
             ]
            ],
            "type": "surface"
           }
          ],
          "table": [
           {
            "cells": {
             "fill": {
              "color": "#EBF0F8"
             },
             "line": {
              "color": "white"
             }
            },
            "header": {
             "fill": {
              "color": "#C8D4E3"
             },
             "line": {
              "color": "white"
             }
            },
            "type": "table"
           }
          ]
         },
         "layout": {
          "annotationdefaults": {
           "arrowcolor": "#2a3f5f",
           "arrowhead": 0,
           "arrowwidth": 1
          },
          "autotypenumbers": "strict",
          "coloraxis": {
           "colorbar": {
            "outlinewidth": 0,
            "ticks": ""
           }
          },
          "colorscale": {
           "diverging": [
            [
             0,
             "#8e0152"
            ],
            [
             0.1,
             "#c51b7d"
            ],
            [
             0.2,
             "#de77ae"
            ],
            [
             0.3,
             "#f1b6da"
            ],
            [
             0.4,
             "#fde0ef"
            ],
            [
             0.5,
             "#f7f7f7"
            ],
            [
             0.6,
             "#e6f5d0"
            ],
            [
             0.7,
             "#b8e186"
            ],
            [
             0.8,
             "#7fbc41"
            ],
            [
             0.9,
             "#4d9221"
            ],
            [
             1,
             "#276419"
            ]
           ],
           "sequential": [
            [
             0,
             "#0d0887"
            ],
            [
             0.1111111111111111,
             "#46039f"
            ],
            [
             0.2222222222222222,
             "#7201a8"
            ],
            [
             0.3333333333333333,
             "#9c179e"
            ],
            [
             0.4444444444444444,
             "#bd3786"
            ],
            [
             0.5555555555555556,
             "#d8576b"
            ],
            [
             0.6666666666666666,
             "#ed7953"
            ],
            [
             0.7777777777777778,
             "#fb9f3a"
            ],
            [
             0.8888888888888888,
             "#fdca26"
            ],
            [
             1,
             "#f0f921"
            ]
           ],
           "sequentialminus": [
            [
             0,
             "#0d0887"
            ],
            [
             0.1111111111111111,
             "#46039f"
            ],
            [
             0.2222222222222222,
             "#7201a8"
            ],
            [
             0.3333333333333333,
             "#9c179e"
            ],
            [
             0.4444444444444444,
             "#bd3786"
            ],
            [
             0.5555555555555556,
             "#d8576b"
            ],
            [
             0.6666666666666666,
             "#ed7953"
            ],
            [
             0.7777777777777778,
             "#fb9f3a"
            ],
            [
             0.8888888888888888,
             "#fdca26"
            ],
            [
             1,
             "#f0f921"
            ]
           ]
          },
          "colorway": [
           "#636efa",
           "#EF553B",
           "#00cc96",
           "#ab63fa",
           "#FFA15A",
           "#19d3f3",
           "#FF6692",
           "#B6E880",
           "#FF97FF",
           "#FECB52"
          ],
          "font": {
           "color": "#2a3f5f"
          },
          "geo": {
           "bgcolor": "white",
           "lakecolor": "white",
           "landcolor": "#E5ECF6",
           "showlakes": true,
           "showland": true,
           "subunitcolor": "white"
          },
          "hoverlabel": {
           "align": "left"
          },
          "hovermode": "closest",
          "mapbox": {
           "style": "light"
          },
          "paper_bgcolor": "white",
          "plot_bgcolor": "#E5ECF6",
          "polar": {
           "angularaxis": {
            "gridcolor": "white",
            "linecolor": "white",
            "ticks": ""
           },
           "bgcolor": "#E5ECF6",
           "radialaxis": {
            "gridcolor": "white",
            "linecolor": "white",
            "ticks": ""
           }
          },
          "scene": {
           "xaxis": {
            "backgroundcolor": "#E5ECF6",
            "gridcolor": "white",
            "gridwidth": 2,
            "linecolor": "white",
            "showbackground": true,
            "ticks": "",
            "zerolinecolor": "white"
           },
           "yaxis": {
            "backgroundcolor": "#E5ECF6",
            "gridcolor": "white",
            "gridwidth": 2,
            "linecolor": "white",
            "showbackground": true,
            "ticks": "",
            "zerolinecolor": "white"
           },
           "zaxis": {
            "backgroundcolor": "#E5ECF6",
            "gridcolor": "white",
            "gridwidth": 2,
            "linecolor": "white",
            "showbackground": true,
            "ticks": "",
            "zerolinecolor": "white"
           }
          },
          "shapedefaults": {
           "line": {
            "color": "#2a3f5f"
           }
          },
          "ternary": {
           "aaxis": {
            "gridcolor": "white",
            "linecolor": "white",
            "ticks": ""
           },
           "baxis": {
            "gridcolor": "white",
            "linecolor": "white",
            "ticks": ""
           },
           "bgcolor": "#E5ECF6",
           "caxis": {
            "gridcolor": "white",
            "linecolor": "white",
            "ticks": ""
           }
          },
          "title": {
           "x": 0.05
          },
          "xaxis": {
           "automargin": true,
           "gridcolor": "white",
           "linecolor": "white",
           "ticks": "",
           "title": {
            "standoff": 15
           },
           "zerolinecolor": "white",
           "zerolinewidth": 2
          },
          "yaxis": {
           "automargin": true,
           "gridcolor": "white",
           "linecolor": "white",
           "ticks": "",
           "title": {
            "standoff": 15
           },
           "zerolinecolor": "white",
           "zerolinewidth": 2
          }
         }
        }
       }
      }
     },
     "metadata": {},
     "output_type": "display_data"
    }
   ],
   "source": [
    "import plotly.express as px\n",
    "import plotly.graph_objects as go\n",
    "# Maak een interactieve tabel met Plotly\n",
    "fig = go.Figure(data=[go.Table(\n",
    "    header=dict(values=list(df.columns),\n",
    "                fill_color='paleturquoise',\n",
    "                align='left'),\n",
    "    cells=dict(values=[df[col] for col in df.columns],\n",
    "               fill_color='lavender',\n",
    "               align='left'))\n",
    "])\n",
    "\n",
    "# Toon de tabel\n",
    "fig.show()"
   ]
  },
  {
   "cell_type": "code",
   "execution_count": null,
   "metadata": {},
   "outputs": [],
   "source": []
  }
 ],
 "metadata": {
  "kernelspec": {
   "display_name": "myvenv",
   "language": "python",
   "name": "python3"
  },
  "language_info": {
   "codemirror_mode": {
    "name": "ipython",
    "version": 3
   },
   "file_extension": ".py",
   "mimetype": "text/x-python",
   "name": "python",
   "nbconvert_exporter": "python",
   "pygments_lexer": "ipython3",
   "version": "3.10.0"
  }
 },
 "nbformat": 4,
 "nbformat_minor": 2
}
